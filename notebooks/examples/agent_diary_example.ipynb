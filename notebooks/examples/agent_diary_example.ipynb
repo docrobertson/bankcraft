{
 "cells": [
  {
   "cell_type": "markdown",
   "id": "welcome-header",
   "metadata": {},
   "source": [
    "# BankCraft Agent Diary Example\n",
    "\n",
    "This notebook demonstrates how to use the agent action logging functionality in BankCraft to track and view the actions of individual agents."
   ]
  },
  {
   "cell_type": "code",
   "execution_count": 1,
   "id": "setup-imports",
   "metadata": {},
   "outputs": [],
   "source": [
    "import os\n",
    "import sys\n",
    "import datetime\n",
    "import pandas as pd\n",
    "import matplotlib.pyplot as plt\n",
    "from pathlib import Path\n",
    "\n",
    "# Add src to path\n",
    "project_root = Path().absolute().parent\n",
    "src_path = str(project_root / \"src\")\n",
    "if src_path not in sys.path:\n",
    "    sys.path.insert(0, src_path)\n",
    "\n",
    "# Now you can import bankcraft normally\n",
    "from bankcraft import BankCraftModel\n",
    "from bankcraft import Visualization\n",
    "from bankcraft.config import time_units\n",
    "from bankcraft.agent.person import Person"
   ]
  },
  {
   "cell_type": "markdown",
   "id": "model-setup-section",
   "metadata": {},
   "source": [
    "## Setting Up the Model\n",
    "\n",
    "First, let's create a BankCraft model with a small number of agents so we can easily track their actions."
   ]
  },
  {
   "cell_type": "code",
   "execution_count": 2,
   "id": "create-model",
   "metadata": {},
   "outputs": [
    {
     "name": "stdout",
     "output_type": "stream",
     "text": [
      "Model ran for 144 steps\n",
      "Current simulation time: 2023-01-02 00:00:00\n"
     ]
    }
   ],
   "source": [
    "# Create a model with a small number of agents\n",
    "model = BankCraftModel(num_people=5, initial_money=1000, num_banks=1, width=10, height=10)\n",
    "\n",
    "# Run the model for a day to generate some actions\n",
    "model.run(duration=\"1 day\")\n",
    "\n",
    "print(f\"Model ran for {model.steps} steps\")\n",
    "print(f\"Current simulation time: {model.current_time}\")"
   ]
  },
  {
   "cell_type": "markdown",
   "id": "agent-actions-section",
   "metadata": {},
   "source": [
    "## Viewing Agent Actions\n",
    "\n",
    "Now that the model has run, we can view the actions that were logged for each agent."
   ]
  },
  {
   "cell_type": "code",
   "execution_count": 3,
   "id": "list-agents",
   "metadata": {},
   "outputs": [
    {
     "name": "stdout",
     "output_type": "stream",
     "text": [
      "Person Agent IDs:\n",
      "ID: 12, Type: person\n",
      "ID: 13, Type: person\n",
      "ID: 14, Type: person\n",
      "ID: 15, Type: person\n",
      "ID: 16, Type: person\n"
     ]
    }
   ],
   "source": [
    "# Get a list of all person agents\n",
    "person_agents = [agent for agent in model.agents if isinstance(agent, Person)]\n",
    "\n",
    "# Display the IDs of all person agents\n",
    "print(\"Person Agent IDs:\")\n",
    "for agent in person_agents:\n",
    "    print(f\"ID: {agent.unique_id}, Type: {agent.type}\")"
   ]
  },
  {
   "cell_type": "code",
   "execution_count": 4,
   "id": "get-all-actions",
   "metadata": {},
   "outputs": [
    {
     "name": "stdout",
     "output_type": "stream",
     "text": [
      "Total actions logged: 175\n"
     ]
    },
    {
     "data": {
      "text/html": [
       "<div>\n",
       "<style scoped>\n",
       "    .dataframe tbody tr th:only-of-type {\n",
       "        vertical-align: middle;\n",
       "    }\n",
       "\n",
       "    .dataframe tbody tr th {\n",
       "        vertical-align: top;\n",
       "    }\n",
       "\n",
       "    .dataframe thead th {\n",
       "        text-align: right;\n",
       "    }\n",
       "</style>\n",
       "<table border=\"1\" class=\"dataframe\">\n",
       "  <thead>\n",
       "    <tr style=\"text-align: right;\">\n",
       "      <th></th>\n",
       "      <th>agent_id</th>\n",
       "      <th>agent_type</th>\n",
       "      <th>step</th>\n",
       "      <th>date_time</th>\n",
       "      <th>action</th>\n",
       "      <th>details</th>\n",
       "      <th>location</th>\n",
       "    </tr>\n",
       "  </thead>\n",
       "  <tbody>\n",
       "    <tr>\n",
       "      <th>0</th>\n",
       "      <td>13</td>\n",
       "      <td>person</td>\n",
       "      <td>1</td>\n",
       "      <td>2023-01-01 00:00:00</td>\n",
       "      <td>rest</td>\n",
       "      <td>Resting at home during night hours</td>\n",
       "      <td>(9, 1)</td>\n",
       "    </tr>\n",
       "    <tr>\n",
       "      <th>1</th>\n",
       "      <td>12</td>\n",
       "      <td>person</td>\n",
       "      <td>1</td>\n",
       "      <td>2023-01-01 00:00:00</td>\n",
       "      <td>rest</td>\n",
       "      <td>Resting at home during night hours</td>\n",
       "      <td>(2, 4)</td>\n",
       "    </tr>\n",
       "    <tr>\n",
       "      <th>2</th>\n",
       "      <td>15</td>\n",
       "      <td>person</td>\n",
       "      <td>1</td>\n",
       "      <td>2023-01-01 00:00:00</td>\n",
       "      <td>rest</td>\n",
       "      <td>Resting at home during night hours</td>\n",
       "      <td>(8, 8)</td>\n",
       "    </tr>\n",
       "    <tr>\n",
       "      <th>3</th>\n",
       "      <td>14</td>\n",
       "      <td>person</td>\n",
       "      <td>1</td>\n",
       "      <td>2023-01-01 00:00:00</td>\n",
       "      <td>rest</td>\n",
       "      <td>Resting at home during night hours</td>\n",
       "      <td>(9, 5)</td>\n",
       "    </tr>\n",
       "    <tr>\n",
       "      <th>4</th>\n",
       "      <td>16</td>\n",
       "      <td>person</td>\n",
       "      <td>1</td>\n",
       "      <td>2023-01-01 00:00:00</td>\n",
       "      <td>rest</td>\n",
       "      <td>Resting at home during night hours</td>\n",
       "      <td>(6, 4)</td>\n",
       "    </tr>\n",
       "    <tr>\n",
       "      <th>5</th>\n",
       "      <td>14</td>\n",
       "      <td>person</td>\n",
       "      <td>2</td>\n",
       "      <td>2023-01-01 00:10:00</td>\n",
       "      <td>rest</td>\n",
       "      <td>Resting at home during night hours</td>\n",
       "      <td>(9, 5)</td>\n",
       "    </tr>\n",
       "    <tr>\n",
       "      <th>6</th>\n",
       "      <td>13</td>\n",
       "      <td>person</td>\n",
       "      <td>2</td>\n",
       "      <td>2023-01-01 00:10:00</td>\n",
       "      <td>rest</td>\n",
       "      <td>Resting at home during night hours</td>\n",
       "      <td>(9, 1)</td>\n",
       "    </tr>\n",
       "    <tr>\n",
       "      <th>7</th>\n",
       "      <td>15</td>\n",
       "      <td>person</td>\n",
       "      <td>2</td>\n",
       "      <td>2023-01-01 00:10:00</td>\n",
       "      <td>rest</td>\n",
       "      <td>Resting at home during night hours</td>\n",
       "      <td>(8, 8)</td>\n",
       "    </tr>\n",
       "    <tr>\n",
       "      <th>8</th>\n",
       "      <td>16</td>\n",
       "      <td>person</td>\n",
       "      <td>2</td>\n",
       "      <td>2023-01-01 00:10:00</td>\n",
       "      <td>rest</td>\n",
       "      <td>Resting at home during night hours</td>\n",
       "      <td>(6, 4)</td>\n",
       "    </tr>\n",
       "    <tr>\n",
       "      <th>9</th>\n",
       "      <td>12</td>\n",
       "      <td>person</td>\n",
       "      <td>2</td>\n",
       "      <td>2023-01-01 00:10:00</td>\n",
       "      <td>rest</td>\n",
       "      <td>Resting at home during night hours</td>\n",
       "      <td>(2, 4)</td>\n",
       "    </tr>\n",
       "  </tbody>\n",
       "</table>\n",
       "</div>"
      ],
      "text/plain": [
       "   agent_id agent_type  step            date_time action  \\\n",
       "0        13     person     1  2023-01-01 00:00:00   rest   \n",
       "1        12     person     1  2023-01-01 00:00:00   rest   \n",
       "2        15     person     1  2023-01-01 00:00:00   rest   \n",
       "3        14     person     1  2023-01-01 00:00:00   rest   \n",
       "4        16     person     1  2023-01-01 00:00:00   rest   \n",
       "5        14     person     2  2023-01-01 00:10:00   rest   \n",
       "6        13     person     2  2023-01-01 00:10:00   rest   \n",
       "7        15     person     2  2023-01-01 00:10:00   rest   \n",
       "8        16     person     2  2023-01-01 00:10:00   rest   \n",
       "9        12     person     2  2023-01-01 00:10:00   rest   \n",
       "\n",
       "                              details location  \n",
       "0  Resting at home during night hours   (9, 1)  \n",
       "1  Resting at home during night hours   (2, 4)  \n",
       "2  Resting at home during night hours   (8, 8)  \n",
       "3  Resting at home during night hours   (9, 5)  \n",
       "4  Resting at home during night hours   (6, 4)  \n",
       "5  Resting at home during night hours   (9, 5)  \n",
       "6  Resting at home during night hours   (9, 1)  \n",
       "7  Resting at home during night hours   (8, 8)  \n",
       "8  Resting at home during night hours   (6, 4)  \n",
       "9  Resting at home during night hours   (2, 4)  "
      ]
     },
     "execution_count": 4,
     "metadata": {},
     "output_type": "execute_result"
    }
   ],
   "source": [
    "# Get all actions for all agents\n",
    "all_actions = model.get_agent_actions()\n",
    "\n",
    "# Display the total number of actions logged\n",
    "print(f\"Total actions logged: {len(all_actions)}\")\n",
    "\n",
    "# Display the first 10 actions\n",
    "all_actions.head(10)"
   ]
  },
  {
   "cell_type": "markdown",
   "id": "agent-diary-section",
   "metadata": {},
   "source": [
    "## Agent Diary\n",
    "\n",
    "The agent diary provides a chronological log of all actions performed by a specific agent, formatted in a readable way."
   ]
  },
  {
   "cell_type": "code",
   "execution_count": 5,
   "id": "get-agent-diary",
   "metadata": {},
   "outputs": [
    {
     "name": "stdout",
     "output_type": "stream",
     "text": [
      "Diary for person (ID: 12):\n",
      "================================================================================\n",
      "\n",
      "\n",
      "Step 1:\n",
      "----------------------------------------\n",
      "Time: 2023-01-01 00:00:00\n",
      "  • rest: Resting at home during night hours (at location (2, 4))\n",
      "\n",
      "Step 2:\n",
      "----------------------------------------\n",
      "Time: 2023-01-01 00:10:00\n",
      "  • rest: Resting at home during night hours (at location (2, 4))\n",
      "\n",
      "Step 8:\n",
      "----------------------------------------\n",
      "Time: 2023-01-01 01:10:00\n",
      "  • rest: Resting at home during night hours (at location (2, 4))\n",
      "\n",
      "Step 14:\n",
      "----------------------------------------\n",
      "Time: 2023-01-01 02:10:00\n",
      "  • rest: Resting at home during night hours (at location (2, 4))\n",
      "\n",
      "Step 20:\n",
      "----------------------------------------\n",
      "Time: 2023-01-01 03:10:00\n",
      "  • rest: Resting at home during night hours (at location (2, 4))\n",
      "\n",
      "Step 26:\n",
      "----------------------------------------\n",
      "Time: 2023-01-01 04:10:00\n",
      "  • rest: Resting at home during night hours (at location (2, 4))\n",
      "\n",
      "Step 32:\n",
      "----------------------------------------\n",
      "Time: 2023-01-01 05:10:00\n",
      "  • rest: Resting at home during night hours (at location (2, 4))\n",
      "\n",
      "Step 38:\n",
      "----------------------------------------\n",
      "Time: 2023-01-01 06:10:00\n",
      "  • rest: Resting at home during night hours (at location (2, 4))\n",
      "\n",
      "Step 44:\n",
      "----------------------------------------\n",
      "Time: 2023-01-01 07:10:00\n",
      "  • rest: Resting at home during day hours (at location (2, 4))\n",
      "\n",
      "Step 47:\n",
      "----------------------------------------\n",
      "Time: 2023-01-01 07:40:00\n",
      "  • rest: Resting at home during day hours (at location (2, 4))\n",
      "\n",
      "Step 50:\n",
      "----------------------------------------\n",
      "Time: 2023-01-01 08:10:00\n",
      "  • rest: Resting at home during day hours (at location (2, 4))\n",
      "\n",
      "Step 53:\n",
      "----------------------------------------\n",
      "Time: 2023-01-01 08:40:00\n",
      "  • rest: Resting at home during day hours (at location (2, 4))\n",
      "\n",
      "Step 56:\n",
      "----------------------------------------\n",
      "Time: 2023-01-01 09:10:00\n",
      "  • rest: Resting at home during day hours (at location (2, 4))\n",
      "\n",
      "Step 59:\n",
      "----------------------------------------\n",
      "Time: 2023-01-01 09:40:00\n",
      "  • rest: Resting at home during day hours (at location (2, 4))\n",
      "\n",
      "Step 62:\n",
      "----------------------------------------\n",
      "Time: 2023-01-01 10:10:00\n",
      "  • rest: Resting at home during day hours (at location (2, 4))\n",
      "\n",
      "Step 65:\n",
      "----------------------------------------\n",
      "Time: 2023-01-01 10:40:00\n",
      "  • position_update: Position updated from (2, 4) to (1, 3) (at location (1, 3))\n",
      "  • move: Moving towards (1, 3) (at location (1, 3))\n",
      "  • decision: Decided to buy a medium_meal due to low hunger (at location (1, 3))\n",
      "  • payment: Paid 12.861750283656477 to agent 17 for hunger (at location (1, 3))\n",
      "  • buy_food: Bought medium meal for 12.861750283656477 (at location (1, 3))\n",
      "  • motivation_change: Hunger reduced by 16.95204096576866 to 3.547959034231365 (at location (1, 3))\n",
      "\n",
      "Step 120:\n",
      "----------------------------------------\n",
      "Time: 2023-01-01 19:50:00\n",
      "  • decision: Decided to buy a small_meal due to low hunger (at location (1, 3))\n",
      "  • payment: Paid 2.9352275657462106 to agent 17 for hunger (at location (1, 3))\n",
      "  • buy_food: Bought small meal for 2.9352275657462106 (at location (1, 3))\n",
      "  • motivation_change: Hunger reduced by 10.023979517115695 to 10.023979517115695 (at location (1, 3))\n",
      "\n"
     ]
    }
   ],
   "source": [
    "# Choose the first person agent\n",
    "agent_id = person_agents[0].unique_id\n",
    "\n",
    "# Get the agent's diary\n",
    "diary = model.get_agent_diary(agent_id)\n",
    "\n",
    "# Display the diary\n",
    "print(diary)"
   ]
  },
  {
   "cell_type": "markdown",
   "id": "filter-actions-section",
   "metadata": {},
   "source": [
    "## Filtering Actions\n",
    "\n",
    "We can also filter the actions to focus on specific types of activities."
   ]
  },
  {
   "cell_type": "code",
   "execution_count": 6,
   "id": "filter-actions",
   "metadata": {},
   "outputs": [
    {
     "name": "stdout",
     "output_type": "stream",
     "text": [
      "Payment actions for agent 12:\n"
     ]
    },
    {
     "data": {
      "text/html": [
       "<div>\n",
       "<style scoped>\n",
       "    .dataframe tbody tr th:only-of-type {\n",
       "        vertical-align: middle;\n",
       "    }\n",
       "\n",
       "    .dataframe tbody tr th {\n",
       "        vertical-align: top;\n",
       "    }\n",
       "\n",
       "    .dataframe thead th {\n",
       "        text-align: right;\n",
       "    }\n",
       "</style>\n",
       "<table border=\"1\" class=\"dataframe\">\n",
       "  <thead>\n",
       "    <tr style=\"text-align: right;\">\n",
       "      <th></th>\n",
       "      <th>agent_id</th>\n",
       "      <th>agent_type</th>\n",
       "      <th>step</th>\n",
       "      <th>date_time</th>\n",
       "      <th>action</th>\n",
       "      <th>details</th>\n",
       "      <th>location</th>\n",
       "    </tr>\n",
       "  </thead>\n",
       "  <tbody>\n",
       "    <tr>\n",
       "      <th>78</th>\n",
       "      <td>12</td>\n",
       "      <td>person</td>\n",
       "      <td>65</td>\n",
       "      <td>2023-01-01 10:40:00</td>\n",
       "      <td>payment</td>\n",
       "      <td>Paid 12.861750283656477 to agent 17 for hunger</td>\n",
       "      <td>(1, 3)</td>\n",
       "    </tr>\n",
       "    <tr>\n",
       "      <th>160</th>\n",
       "      <td>12</td>\n",
       "      <td>person</td>\n",
       "      <td>120</td>\n",
       "      <td>2023-01-01 19:50:00</td>\n",
       "      <td>payment</td>\n",
       "      <td>Paid 2.9352275657462106 to agent 17 for hunger</td>\n",
       "      <td>(1, 3)</td>\n",
       "    </tr>\n",
       "  </tbody>\n",
       "</table>\n",
       "</div>"
      ],
      "text/plain": [
       "     agent_id agent_type  step            date_time   action  \\\n",
       "78         12     person    65  2023-01-01 10:40:00  payment   \n",
       "160        12     person   120  2023-01-01 19:50:00  payment   \n",
       "\n",
       "                                            details location  \n",
       "78   Paid 12.861750283656477 to agent 17 for hunger   (1, 3)  \n",
       "160  Paid 2.9352275657462106 to agent 17 for hunger   (1, 3)  "
      ]
     },
     "execution_count": 6,
     "metadata": {},
     "output_type": "execute_result"
    }
   ],
   "source": [
    "# Get actions for a specific agent\n",
    "agent_actions = model.get_agent_actions(agent_id)\n",
    "\n",
    "# Filter for specific action types\n",
    "payment_actions = agent_actions[agent_actions['action'] == 'payment']\n",
    "movement_actions = agent_actions[agent_actions['action'].isin(['move', 'position_update'])]\n",
    "decision_actions = agent_actions[agent_actions['action'] == 'decision']\n",
    "\n",
    "# Display payment actions\n",
    "print(f\"Payment actions for agent {agent_id}:\")\n",
    "payment_actions"
   ]
  },
  {
   "cell_type": "code",
   "execution_count": 7,
   "id": "movement-actions",
   "metadata": {},
   "outputs": [
    {
     "name": "stdout",
     "output_type": "stream",
     "text": [
      "Movement actions for agent 12:\n"
     ]
    },
    {
     "data": {
      "text/html": [
       "<div>\n",
       "<style scoped>\n",
       "    .dataframe tbody tr th:only-of-type {\n",
       "        vertical-align: middle;\n",
       "    }\n",
       "\n",
       "    .dataframe tbody tr th {\n",
       "        vertical-align: top;\n",
       "    }\n",
       "\n",
       "    .dataframe thead th {\n",
       "        text-align: right;\n",
       "    }\n",
       "</style>\n",
       "<table border=\"1\" class=\"dataframe\">\n",
       "  <thead>\n",
       "    <tr style=\"text-align: right;\">\n",
       "      <th></th>\n",
       "      <th>agent_id</th>\n",
       "      <th>agent_type</th>\n",
       "      <th>step</th>\n",
       "      <th>date_time</th>\n",
       "      <th>action</th>\n",
       "      <th>details</th>\n",
       "      <th>location</th>\n",
       "    </tr>\n",
       "  </thead>\n",
       "  <tbody>\n",
       "    <tr>\n",
       "      <th>75</th>\n",
       "      <td>12</td>\n",
       "      <td>person</td>\n",
       "      <td>65</td>\n",
       "      <td>2023-01-01 10:40:00</td>\n",
       "      <td>position_update</td>\n",
       "      <td>Position updated from (2, 4) to (1, 3)</td>\n",
       "      <td>(1, 3)</td>\n",
       "    </tr>\n",
       "    <tr>\n",
       "      <th>76</th>\n",
       "      <td>12</td>\n",
       "      <td>person</td>\n",
       "      <td>65</td>\n",
       "      <td>2023-01-01 10:40:00</td>\n",
       "      <td>move</td>\n",
       "      <td>Moving towards (1, 3)</td>\n",
       "      <td>(1, 3)</td>\n",
       "    </tr>\n",
       "  </tbody>\n",
       "</table>\n",
       "</div>"
      ],
      "text/plain": [
       "    agent_id agent_type  step            date_time           action  \\\n",
       "75        12     person    65  2023-01-01 10:40:00  position_update   \n",
       "76        12     person    65  2023-01-01 10:40:00             move   \n",
       "\n",
       "                                   details location  \n",
       "75  Position updated from (2, 4) to (1, 3)   (1, 3)  \n",
       "76                   Moving towards (1, 3)   (1, 3)  "
      ]
     },
     "execution_count": 7,
     "metadata": {},
     "output_type": "execute_result"
    }
   ],
   "source": [
    "# Display movement actions\n",
    "print(f\"Movement actions for agent {agent_id}:\")\n",
    "movement_actions"
   ]
  },
  {
   "cell_type": "markdown",
   "id": "action-stats-section",
   "metadata": {},
   "source": [
    "## Action Statistics\n",
    "\n",
    "We can analyze the actions to get insights into agent behavior."
   ]
  },
  {
   "cell_type": "code",
   "execution_count": 8,
   "id": "action-stats",
   "metadata": {},
   "outputs": [
    {
     "name": "stdout",
     "output_type": "stream",
     "text": [
      "Action counts for agent 12:\n"
     ]
    },
    {
     "data": {
      "text/plain": [
       "action\n",
       "rest                 15\n",
       "decision              2\n",
       "payment               2\n",
       "buy_food              2\n",
       "motivation_change     2\n",
       "position_update       1\n",
       "move                  1\n",
       "Name: count, dtype: int64"
      ]
     },
     "execution_count": 8,
     "metadata": {},
     "output_type": "execute_result"
    }
   ],
   "source": [
    "# Count actions by type\n",
    "action_counts = agent_actions['action'].value_counts()\n",
    "\n",
    "# Display action counts\n",
    "print(f\"Action counts for agent {agent_id}:\")\n",
    "action_counts"
   ]
  },
  {
   "cell_type": "code",
   "execution_count": 9,
   "id": "action-plot",
   "metadata": {},
   "outputs": [
    {
     "data": {
      "image/png": "[encoded data removed]",
      "text/plain": [
       "<Figure size 1000x600 with 1 Axes>"
      ]
     },
     "metadata": {},
     "output_type": "display_data"
    }
   ],
   "source": [
    "# Plot action counts\n",
    "action_counts.plot(kind='bar', figsize=(10, 6))\n",
    "plt.title(f'Action Counts for Agent {agent_id}')\n",
    "plt.xlabel('Action Type')\n",
    "plt.ylabel('Count')\n",
    "plt.xticks(rotation=45)\n",
    "plt.tight_layout()\n",
    "plt.show()"
   ]
  },
  {
   "cell_type": "markdown",
   "id": "compare-agents-section",
   "metadata": {},
   "source": [
    "## Comparing Multiple Agents\n",
    "\n",
    "We can also compare the actions of multiple agents."
   ]
  },
  {
   "cell_type": "code",
   "execution_count": 10,
   "id": "compare-agents",
   "metadata": {},
   "outputs": [
    {
     "data": {
      "text/html": [
       "<div>\n",
       "<style scoped>\n",
       "    .dataframe tbody tr th:only-of-type {\n",
       "        vertical-align: middle;\n",
       "    }\n",
       "\n",
       "    .dataframe tbody tr th {\n",
       "        vertical-align: top;\n",
       "    }\n",
       "\n",
       "    .dataframe thead th {\n",
       "        text-align: right;\n",
       "    }\n",
       "</style>\n",
       "<table border=\"1\" class=\"dataframe\">\n",
       "  <thead>\n",
       "    <tr style=\"text-align: right;\">\n",
       "      <th></th>\n",
       "      <th>Agent 12</th>\n",
       "      <th>Agent 13</th>\n",
       "    </tr>\n",
       "    <tr>\n",
       "      <th>action</th>\n",
       "      <th></th>\n",
       "      <th></th>\n",
       "    </tr>\n",
       "  </thead>\n",
       "  <tbody>\n",
       "    <tr>\n",
       "      <th>buy_food</th>\n",
       "      <td>2</td>\n",
       "      <td>2</td>\n",
       "    </tr>\n",
       "    <tr>\n",
       "      <th>decision</th>\n",
       "      <td>2</td>\n",
       "      <td>2</td>\n",
       "    </tr>\n",
       "    <tr>\n",
       "      <th>motivation_change</th>\n",
       "      <td>2</td>\n",
       "      <td>2</td>\n",
       "    </tr>\n",
       "    <tr>\n",
       "      <th>move</th>\n",
       "      <td>1</td>\n",
       "      <td>8</td>\n",
       "    </tr>\n",
       "    <tr>\n",
       "      <th>payment</th>\n",
       "      <td>2</td>\n",
       "      <td>2</td>\n",
       "    </tr>\n",
       "    <tr>\n",
       "      <th>position_update</th>\n",
       "      <td>1</td>\n",
       "      <td>8</td>\n",
       "    </tr>\n",
       "    <tr>\n",
       "      <th>rest</th>\n",
       "      <td>15</td>\n",
       "      <td>15</td>\n",
       "    </tr>\n",
       "  </tbody>\n",
       "</table>\n",
       "</div>"
      ],
      "text/plain": [
       "                   Agent 12  Agent 13\n",
       "action                               \n",
       "buy_food                  2         2\n",
       "decision                  2         2\n",
       "motivation_change         2         2\n",
       "move                      1         8\n",
       "payment                   2         2\n",
       "position_update           1         8\n",
       "rest                     15        15"
      ]
     },
     "execution_count": 10,
     "metadata": {},
     "output_type": "execute_result"
    }
   ],
   "source": [
    "# Choose two agents to compare\n",
    "agent1_id = person_agents[0].unique_id\n",
    "agent2_id = person_agents[1].unique_id\n",
    "\n",
    "# Get actions for both agents\n",
    "agent1_actions = model.get_agent_actions(agent1_id)\n",
    "agent2_actions = model.get_agent_actions(agent2_id)\n",
    "\n",
    "# Count actions by type for each agent\n",
    "agent1_counts = agent1_actions['action'].value_counts()\n",
    "agent2_counts = agent2_actions['action'].value_counts()\n",
    "\n",
    "# Create a DataFrame for comparison\n",
    "comparison = pd.DataFrame({\n",
    "    f'Agent {agent1_id}': agent1_counts,\n",
    "    f'Agent {agent2_id}': agent2_counts\n",
    "})\n",
    "\n",
    "# Fill NaN values with 0\n",
    "comparison = comparison.fillna(0)\n",
    "\n",
    "# Display comparison\n",
    "comparison"
   ]
  },
  {
   "cell_type": "code",
   "execution_count": 11,
   "id": "comparison-plot",
   "metadata": {},
   "outputs": [
    {
     "data": {
      "image/png": "[encoded data removed]",
      "text/plain": [
       "<Figure size 1200x600 with 1 Axes>"
      ]
     },
     "metadata": {},
     "output_type": "display_data"
    }
   ],
   "source": [
    "# Plot comparison\n",
    "comparison.plot(kind='bar', figsize=(12, 6))\n",
    "plt.title('Action Comparison Between Two Agents')\n",
    "plt.xlabel('Action Type')\n",
    "plt.ylabel('Count')\n",
    "plt.xticks(rotation=45)\n",
    "plt.tight_layout()\n",
    "plt.show()"
   ]
  },
  {
   "cell_type": "markdown",
   "id": "conclusion-section",
   "metadata": {},
   "source": [
    "## Conclusion\n",
    "\n",
    "The agent action logging system provides a detailed record of all actions performed by agents in the BankCraft simulation. This can be useful for debugging, analyzing agent behavior, and understanding the dynamics of the simulation."
   ]
  }
 ],
 "metadata": {
  "kernelspec": {
   "display_name": ".venv",
   "language": "python",
   "name": "python3"
  },
  "language_info": {
   "codemirror_mode": {
    "name": "ipython",
    "version": 3
   },
   "file_extension": ".py",
   "mimetype": "text/x-python",
   "name": "python",
   "nbconvert_exporter": "python",
   "pygments_lexer": "ipython3",
   "version": "3.12.0"
  }
 },
 "nbformat": 4,
 "nbformat_minor": 5
}

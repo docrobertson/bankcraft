{
 "cells": [
  {
   "cell_type": "markdown",
   "metadata": {},
   "source": [
    "# BankCraft Status Dashboard Example\n",
    "\n",
    "This notebook demonstrates how to use the status dashboard feature in BankCraft to monitor model execution."
   ]
  },
  {
   "cell_type": "code",
   "execution_count": 1,
   "metadata": {},
   "outputs": [],
   "source": [
    "import datetime\n",
    "from bankcraft.model import BankCraftModelBuilder"
   ]
  },
  {
   "cell_type": "markdown",
   "metadata": {},
   "source": [
    "## Create a Model\n",
    "\n",
    "First, let's create a model with some agents."
   ]
  },
  {
   "cell_type": "code",
   "execution_count": null,
   "metadata": {},
   "outputs": [],
   "source": [
    "# Create a model with some agents\n",
    "model = BankCraftModelBuilder.build_default_model(\n",
    "    num_people=20,\n",
    "    initial_money=1000,\n",
    "    num_banks=2,\n",
    "    width=20,\n",
    "    height=20\n",
    ")\n",
    "\n",
    "print(\"Model created with:\")\n",
    "print(f\"- {len(model.get_people())} people\")\n",
    "print(f\"- {len([a for a in model.agents if hasattr(a, 'type') and a.type == 'employer'])} employers\")\n",
    "print(f\"- {len([a for a in model.agents if hasattr(a, 'type') and a.type == 'business'])} businesses\")"
   ]
  },
  {
   "cell_type": "markdown",
   "metadata": {},
   "source": [
    "## Example 1: Run for a Specific Number of Steps with Dashboard\n",
    "\n",
    "Let's run the model for 100 steps and display the dashboard."
   ]
  },
  {
   "cell_type": "code",
   "execution_count": null,
   "metadata": {},
   "outputs": [],
   "source": [
    "model.run(steps=100, show_dashboard=True)"
   ]
  },
  {
   "cell_type": "markdown",
   "metadata": {},
   "source": [
    "## Example 2: Run for a Specific Duration with Dashboard\n",
    "\n",
    "Now, let's run the model for a specific duration (2 days) and display the dashboard."
   ]
  },
  {
   "cell_type": "code",
   "execution_count": null,
   "metadata": {},
   "outputs": [],
   "source": [
    "model.run(duration=\"2 days\", show_dashboard=True)"
   ]
  },
  {
   "cell_type": "markdown",
   "metadata": {},
   "source": [
    "## Example 3: Run Until a Specific Date with Dashboard\n",
    "\n",
    "Let's run the model until a specific date and display the dashboard."
   ]
  },
  {
   "cell_type": "code",
   "execution_count": null,
   "metadata": {},
   "outputs": [],
   "source": [
    "end_date = model.current_time + datetime.timedelta(days=5)\n",
    "print(f\"Running until {end_date}\")\n",
    "model.run_until(end_date=end_date, show_dashboard=True)"
   ]
  },
  {
   "cell_type": "markdown",
   "metadata": {},
   "source": [
    "## Example 4: Run Without Dashboard\n",
    "\n",
    "For comparison, let's run the model without displaying the dashboard."
   ]
  },
  {
   "cell_type": "code",
   "execution_count": null,
   "metadata": {},
   "outputs": [],
   "source": [
    "print(\"Running for 50 steps without dashboard\")\n",
    "model.run(steps=50, show_dashboard=False)\n",
    "print(\"Run completed without dashboard\")"
   ]
  },
  {
   "cell_type": "markdown",
   "metadata": {},
   "source": [
    "## Example 5: Run with Custom Dashboard Update Frequency\n",
    "\n",
    "Finally, let's run the model with a custom dashboard update frequency."
   ]
  },
  {
   "cell_type": "code",
   "execution_count": null,
   "metadata": {},
   "outputs": [],
   "source": [
    "print(\"Running for 100 steps with dashboard updating every 5 steps\")\n",
    "model.run(steps=100, show_dashboard=True, dashboard_update_frequency=5)"
   ]
  }
 ],
 "metadata": {
  "kernelspec": {
   "display_name": ".venv",
   "language": "python",
   "name": "python3"
  },
  "language_info": {
   "codemirror_mode": {
    "name": "ipython",
    "version": 3
   },
   "file_extension": ".py",
   "mimetype": "text/x-python",
   "name": "python",
   "nbconvert_exporter": "python",
   "pygments_lexer": "ipython3",
   "version": "3.12.0"
  }
 },
 "nbformat": 4,
 "nbformat_minor": 4
}

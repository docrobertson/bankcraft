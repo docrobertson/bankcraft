{
 "cells": [
  {
   "metadata": {},
   "cell_type": "markdown",
   "source": [
    "# Welcome to BankCraft\n",
    "===================="
   ],
   "id": "8c7cf20150da57b4"
  },
  {
   "metadata": {},
   "cell_type": "code",
   "outputs": [],
   "execution_count": null,
   "source": [
    "import os\n",
    "import sys\n",
    "from pathlib import Path\n",
    "\n",
    "# Add src to path\n",
    "project_root = Path().absolute().parent\n",
    "src_path = str(project_root / \"src\")\n",
    "if src_path not in sys.path:\n",
    "    sys.path.insert(0, src_path)\n",
    "\n",
    "# Now you can import bankcraft normally\n",
    "from bankcraft import BankCraftModel, BankCraftModelBuilder\n",
    "from bankcraft import Visualization"
   ],
   "id": "e8636f3e45e38152"
  },
  {
   "metadata": {},
   "cell_type": "code",
   "outputs": [],
   "execution_count": null,
   "source": [
    "model = BankCraftModelBuilder.build_default_model(num_people=100, initial_money=1000, num_banks=3, width=15, height=15)\n",
    "\n",
    "print(f\"Model initialized with {model._num_people} people, {model._num_banks} banks, and a grid size of {model.grid.width}x{model.grid.height}\")\n",
    "print(f\"Starting time is {model.current_time}\")\n",
    "model.run(steps=365)\n",
    "print(f\"Model ran for {model.steps} steps and ended at {model.current_time}\")\n"
   ],
   "id": "1c55b33159fb8ecf"
  },
  {
   "metadata": {},
   "cell_type": "code",
   "outputs": [],
   "execution_count": null,
   "source": [
    "print(f\"Running model for 1 day\")\n",
    "model.run(duration=\"1 day\")\n",
    "print(f\"Model ran a total of {model.steps} steps and ended at {model.current_time}\")\n",
    "\n",
    "print(f\"Running model for 1 hour\")\n",
    "model.run(duration=\"1 hour\")\n",
    "print(f\"Model ran a total of {model.steps} steps and ended at {model.current_time}\")"
   ],
   "id": "a5b94dfa79c51587"
  },
  {
   "metadata": {},
   "cell_type": "code",
   "outputs": [],
   "execution_count": null,
   "source": [
    "vis = Visualization(model)\n",
    "vis.grid_plot()\n"
   ],
   "id": "c3c0d71100fa6b76"
  },
  {
   "metadata": {},
   "cell_type": "markdown",
   "source": [
    "# Longer Simulation Runs\n",
    "===================="
   ],
   "id": "d43a44f19a277ec3"
  },
  {
   "metadata": {},
   "cell_type": "code",
   "outputs": [],
   "execution_count": null,
   "source": [
    "import datetime\n",
    "from bankcraft import BankCraftModelBuilder\n",
    "from bankcraft import Visualization\n",
    "\n",
    "# Create a default model\n",
    "model = BankCraftModelBuilder.build_default_model(\n",
    "    num_people=50,\n",
    "    initial_money=2000,\n",
    "    num_banks=2,\n",
    "    width=30,\n",
    "    height=30\n",
    ")\n",
    "\n",
    "# Configure population dynamics\n",
    "model.person_move_in_rate = 0.002   # 0.2% chance per step\n",
    "model.person_move_out_rate = 0.001  # 0.1% chance per step\n",
    "model.business_open_rate = 0.0005   # 0.05% chance per step\n",
    "model.business_close_rate = 0.0005  # 0.05% chance per step\n",
    "\n",
    "# Run for 1 month\n",
    "model.run(duration=\"1 month\", show_dashboard=True)\n",
    "\n",
    "# Add a specific person\n",
    "new_person = model.add_person(initial_money=5000)\n",
    "\n",
    "# Run until a specific date\n",
    "target_date = model.current_time + datetime.timedelta(days=15)\n",
    "model.run_until(target_date, show_dashboard=True)\n",
    "\n",
    "# Analyze results\n",
    "transactions_df = model.get_transactions()\n",
    "people_df = model.get_people()\n",
    "\n",
    "# Get a specific agent's diary\n",
    "agent_id = model.agents[0].unique_id\n",
    "agent_diary = model.get_agent_diary(agent_id)\n",
    "print(agent_diary)\n",
    "\n",
    "# Save results\n",
    "model.save_to_csv(base_filename=\"simulation_results\")\n",
    "\n",
    "# Visualize\n",
    "vis = Visualization(model)\n",
    "vis.grid_plot()"
   ],
   "id": "cc3a6d96bcc7cd5d"
  }
 ],
 "metadata": {
  "kernelspec": {
   "display_name": ".venv",
   "language": "python",
   "name": "python3"
  },
  "language_info": {
   "codemirror_mode": {
    "name": "ipython",
    "version": 3
   },
   "file_extension": ".py",
   "mimetype": "text/x-python",
   "name": "python",
   "nbconvert_exporter": "python",
   "pygments_lexer": "ipython3",
   "version": "3.12.0"
  }
 },
 "nbformat": 4,
 "nbformat_minor": 5
}

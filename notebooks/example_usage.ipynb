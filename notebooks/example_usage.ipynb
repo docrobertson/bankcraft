{
 "cells": [
  {
   "cell_type": "markdown",
   "source": [
    "Welcome to BankCraft\n",
    "===================="
   ],
   "metadata": {
    "collapsed": false
   },
   "id": "7a8f5302aa177a32"
  },
  {
   "cell_type": "code",
   "outputs": [],
   "source": [
    "import bankcraft\n",
    "\n",
    "model = bankcraft.bankcraftmodel.BankCraftModel()\n",
    "\n",
    "model.run(365)\n",
    "transactions = model.get_transactions()\n",
    "agents = model.get_agents()\n",
    "vis = bankcraft.utils.visualization.Visualization(model, agents, transactions)\n",
    "vis.grid_plot()"
   ],
   "metadata": {
    "collapsed": false
   },
   "id": "a23e3668ce583c3a",
   "execution_count": null
  },
  {
   "cell_type": "code",
   "outputs": [],
   "source": [],
   "metadata": {
    "collapsed": false
   },
   "id": "e903d50ee76e4c79"
  }
 ],
 "metadata": {
  "kernelspec": {
   "display_name": "Python 3",
   "language": "python",
   "name": "python3"
  },
  "language_info": {
   "codemirror_mode": {
    "name": "ipython",
    "version": 2
   },
   "file_extension": ".py",
   "mimetype": "text/x-python",
   "name": "python",
   "nbconvert_exporter": "python",
   "pygments_lexer": "ipython2",
   "version": "2.7.6"
  }
 },
 "nbformat": 4,
 "nbformat_minor": 5
}

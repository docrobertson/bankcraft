{
 "cells": [
  {
   "cell_type": "markdown",
   "id": "welcome-header",
   "metadata": {},
   "source": [
    "# BankCraft Agent Diary Example\n",
    "\n",
    "This notebook demonstrates how to use the agent action logging functionality in BankCraft to track and view the actions of individual agents."
   ]
  },
  {
   "metadata": {},
   "cell_type": "code",
   "outputs": [],
   "execution_count": null,
   "source": [
    "\n",
    "import sys\n",
    "from pathlib import Path\n",
    "\n",
    "import matplotlib.pyplot as plt\n",
    "import pandas as pd\n",
    "\n",
    "# Add src to path\n",
    "project_root = Path().absolute().parent\n",
    "src_path = str(project_root / \"src\")\n",
    "if src_path not in sys.path:\n",
    "    sys.path.insert(0, src_path)\n",
    "\n",
    "# Now you can import bankcraft normally\n",
    "from bankcraft import BankCraftModelBuilder\n",
    "from bankcraft.agent.person import Person"
   ],
   "id": "8c5cc7dddf214229"
  },
  {
   "cell_type": "markdown",
   "id": "model-setup-section",
   "metadata": {},
   "source": [
    "## Setting Up the Model\n",
    "\n",
    "First, let's create a BankCraft model with a small number of agents so we can easily track their actions."
   ]
  },
  {
   "metadata": {},
   "cell_type": "code",
   "outputs": [],
   "execution_count": null,
   "source": [
    "# Create a model with a small number of agents\n",
    "model = BankCraftModelBuilder.build_model(num_people=5, initial_money=1000, num_banks=1, width=10, height=10)\n",
    "\n",
    "# Run the model for a day to generate some actions\n",
    "model.run(duration=\"2 day\", show_dashboard=True)\n",
    "\n",
    "print(f\"Model ran for {model.steps} steps\")\n",
    "print(f\"Current simulation time: {model.current_time}\")"
   ],
   "id": "ffbc47340640025c"
  },
  {
   "cell_type": "markdown",
   "id": "agent-actions-section",
   "metadata": {},
   "source": [
    "## Viewing Agent Actions\n",
    "\n",
    "Now that the model has run, we can view the actions that were logged for each agent."
   ]
  },
  {
   "cell_type": "code",
   "id": "list-agents",
   "metadata": {},
   "source": [
    "# Get a list of all person agents\n",
    "person_agents = [agent for agent in model.agents if isinstance(agent, Person)]\n",
    "\n",
    "# Display the IDs of all person agents\n",
    "print(\"Person Agent IDs:\")\n",
    "for agent in person_agents:\n",
    "    print(f\"ID: {agent.unique_id}, Type: {agent.type}\")"
   ],
   "outputs": [],
   "execution_count": null
  },
  {
   "cell_type": "code",
   "id": "get-all-actions",
   "metadata": {},
   "source": [
    "# Get all actions for all agents\n",
    "all_actions = model.get_agent_actions()\n",
    "\n",
    "# Display the total number of actions logged\n",
    "print(f\"Total actions logged: {len(all_actions)}\")\n",
    "\n",
    "# Display the first 10 actions\n",
    "all_actions.head(10)"
   ],
   "outputs": [],
   "execution_count": null
  },
  {
   "cell_type": "markdown",
   "id": "agent-diary-section",
   "metadata": {},
   "source": [
    "## Agent Diary\n",
    "\n",
    "The agent diary provides a chronological log of all actions performed by a specific agent, formatted in a readable way."
   ]
  },
  {
   "cell_type": "code",
   "id": "get-agent-diary",
   "metadata": {},
   "source": [
    "# Choose the first person agent\n",
    "agent_id = person_agents[0].unique_id\n",
    "\n",
    "# Get the agent's diary\n",
    "diary = model.get_agent_diary(agent_id)\n",
    "\n",
    "# Display the diary\n",
    "print(diary)"
   ],
   "outputs": [],
   "execution_count": null
  },
  {
   "cell_type": "markdown",
   "id": "filter-actions-section",
   "metadata": {},
   "source": [
    "## Filtering Actions\n",
    "\n",
    "We can also filter the actions to focus on specific types of activities."
   ]
  },
  {
   "cell_type": "code",
   "id": "filter-actions",
   "metadata": {},
   "source": [
    "# Get actions for a specific agent\n",
    "agent_actions = model.get_agent_actions(agent_id)\n",
    "\n",
    "# Filter for specific action types\n",
    "payment_actions = agent_actions[agent_actions['action'] == 'payment']\n",
    "movement_actions = agent_actions[agent_actions['action'].isin(['move', 'position_update'])]\n",
    "decision_actions = agent_actions[agent_actions['action'] == 'decision']\n",
    "\n",
    "# Display payment actions\n",
    "print(f\"Payment actions for agent {agent_id}:\")\n",
    "payment_actions"
   ],
   "outputs": [],
   "execution_count": null
  },
  {
   "cell_type": "code",
   "id": "movement-actions",
   "metadata": {},
   "source": [
    "# Display movement actions\n",
    "print(f\"Movement actions for agent {agent_id}:\")\n",
    "movement_actions"
   ],
   "outputs": [],
   "execution_count": null
  },
  {
   "cell_type": "markdown",
   "id": "action-stats-section",
   "metadata": {},
   "source": [
    "## Action Statistics\n",
    "\n",
    "We can analyze the actions to get insights into agent behavior."
   ]
  },
  {
   "cell_type": "code",
   "id": "action-stats",
   "metadata": {},
   "source": [
    "# Count actions by type\n",
    "action_counts = agent_actions['action'].value_counts()\n",
    "\n",
    "# Display action counts\n",
    "print(f\"Action counts for agent {agent_id}:\")\n",
    "action_counts"
   ],
   "outputs": [],
   "execution_count": null
  },
  {
   "cell_type": "code",
   "id": "action-plot",
   "metadata": {},
   "source": [
    "# Plot action counts\n",
    "action_counts.plot(kind='bar', figsize=(10, 6))\n",
    "plt.title(f'Action Counts for Agent {agent_id}')\n",
    "plt.xlabel('Action Type')\n",
    "plt.ylabel('Count')\n",
    "plt.xticks(rotation=45)\n",
    "plt.tight_layout()\n",
    "plt.show()"
   ],
   "outputs": [],
   "execution_count": null
  },
  {
   "cell_type": "markdown",
   "id": "compare-agents-section",
   "metadata": {},
   "source": [
    "## Comparing Multiple Agents\n",
    "\n",
    "We can also compare the actions of multiple agents."
   ]
  },
  {
   "cell_type": "code",
   "id": "compare-agents",
   "metadata": {},
   "source": [
    "# Choose two agents to compare\n",
    "agent1_id = person_agents[0].unique_id\n",
    "agent2_id = person_agents[1].unique_id\n",
    "\n",
    "# Get actions for both agents\n",
    "agent1_actions = model.get_agent_actions(agent1_id)\n",
    "agent2_actions = model.get_agent_actions(agent2_id)\n",
    "\n",
    "# Count actions by type for each agent\n",
    "agent1_counts = agent1_actions['action'].value_counts()\n",
    "agent2_counts = agent2_actions['action'].value_counts()\n",
    "\n",
    "# Create a DataFrame for comparison\n",
    "comparison = pd.DataFrame({\n",
    "    f'Agent {agent1_id}': agent1_counts,\n",
    "    f'Agent {agent2_id}': agent2_counts\n",
    "})\n",
    "\n",
    "# Fill NaN values with 0\n",
    "comparison = comparison.fillna(0)\n",
    "\n",
    "# Display comparison\n",
    "comparison"
   ],
   "outputs": [],
   "execution_count": null
  },
  {
   "cell_type": "code",
   "id": "comparison-plot",
   "metadata": {},
   "source": [
    "# Plot comparison\n",
    "comparison.plot(kind='bar', figsize=(12, 6))\n",
    "plt.title('Action Comparison Between Two Agents')\n",
    "plt.xlabel('Action Type')\n",
    "plt.ylabel('Count')\n",
    "plt.xticks(rotation=45)\n",
    "plt.tight_layout()\n",
    "plt.show()"
   ],
   "outputs": [],
   "execution_count": null
  },
  {
   "cell_type": "markdown",
   "id": "conclusion-section",
   "metadata": {},
   "source": [
    "## Conclusion\n",
    "\n",
    "The agent action logging system provides a detailed record of all actions performed by agents in the BankCraft simulation. This can be useful for debugging, analyzing agent behavior, and understanding the dynamics of the simulation."
   ]
  }
 ],
 "metadata": {
  "kernelspec": {
   "display_name": ".venv",
   "language": "python",
   "name": "python3"
  },
  "language_info": {
   "codemirror_mode": {
    "name": "ipython",
    "version": 3
   },
   "file_extension": ".py",
   "mimetype": "text/x-python",
   "name": "python",
   "nbconvert_exporter": "python",
   "pygments_lexer": "ipython3",
   "version": "3.12.0"
  }
 },
 "nbformat": 4,
 "nbformat_minor": 5
}
